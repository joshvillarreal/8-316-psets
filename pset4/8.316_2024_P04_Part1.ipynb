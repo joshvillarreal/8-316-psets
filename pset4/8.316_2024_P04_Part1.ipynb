{
 "cells": [
  {
   "cell_type": "markdown",
   "id": "589a4b7e-4184-4c43-ac36-e2791f08f8bc",
   "metadata": {
    "id": "589a4b7e-4184-4c43-ac36-e2791f08f8bc",
    "tags": [
     "learner",
     "md",
     "learner_chopped"
    ]
   },
   "source": [
    "<hr style=\"height: 1px;\">\n",
    "<i>This notebook was authored by the 8.S50x Course Team, Copyright 2022 MIT All Rights Reserved.</i>\n",
    "<hr style=\"height: 1px;\">\n",
    "<br>\n",
    "\n",
    "<h1>Pset 4: Problems Using Numerical Simulation</h1>\n"
   ]
  },
  {
   "cell_type": "markdown",
   "id": "7d8b809e",
   "metadata": {
    "id": "7d8b809e",
    "tags": [
     "learner",
     "md",
     "learner_chopped"
    ]
   },
   "source": [
    "<a name='section_4_0'></a>\n",
    "<hr style=\"height: 1px;\">\n",
    "\n",
    "\n",
    "## <h2 style=\"border:1px; border-style:solid; padding: 0.25em; color: #FFFFFF; background-color: #90409C\">P4.0 Overview</h2>\n"
   ]
  },
  {
   "cell_type": "markdown",
   "id": "fc477952",
   "metadata": {
    "id": "fc477952",
    "tags": [
     "learner",
     "md",
     "learner_chopped"
    ]
   },
   "source": [
    "<h3>Navigation</h3>\n",
    "\n",
    "<table style=\"width:100%\">\n",
    "    <tr>\n",
    "        <td style=\"text-align: left; vertical-align: top; font-size: 10pt;\"><a href=\"#section_4_1\">P4.1 Double Pendulum</a></td>\n",
    "        <td style=\"text-align: left; vertical-align: top; font-size: 10pt;\"><a href=\"#problems_4_1\">P4.1 Problems</a></td>\n",
    "    </tr>\n",
    "    <tr>\n",
    "        <td style=\"text-align: left; vertical-align: top; font-size: 10pt;\"><a href=\"#section_4_3\">P4.3 Maxwell-Boltzmann Distribution from Molecular Simulation</a></td>\n",
    "        <td style=\"text-align: left; vertical-align: top; font-size: 10pt;\"><a href=\"#problems_4_3\">P4.3 Problems</a></td>\n",
    "    </tr>\n",
    "    <tr>\n",
    "        <td style=\"text-align: left; vertical-align: top; font-size: 10pt;\"><a href=\"#section_4_4\">P4.4 Ideal Gas Law from Molecular Simulation</a></td>\n",
    "        <td style=\"text-align: left; vertical-align: top; font-size: 10pt;\"><a href=\"#problems_4_4\">P4.4 Problems</a></td>\n",
    "    </tr>\n",
    "</table>\n",
    "\n"
   ]
  },
  {
   "cell_type": "markdown",
   "id": "178cf1d4",
   "metadata": {
    "id": "178cf1d4",
    "tags": [
     "learner",
     "md"
    ]
   },
   "source": [
    "<h3>Learning Objectives</h3>\n",
    "\n",
    "In these problems, we will explore several examples utilizing numerical simulation. For each case, there will be several questions which lead to building a full-fledged simulation of the physical system or computational task under consideration.\n",
    "\n",
    "In the first part, we will simulate a dynamical system, the double-pendulum. This simple system exhibits rich behavior and it one of the prototypical examples of chaos.\n",
    "\n",
    "In the second part, we will investigate the flow of momentum on a lattice using a Lattice-Boltzmann simulation.\n",
    "\n",
    "The third and fourth parts, we will focus on a 2D ideal gas simulation through particle-level simulation. We will derive famous distributions and relations such as Boltzmann distribution, Gay-Lussac's law, Avogadro's Law, Boyle's law, and by combining them all, ideal gas relation in two dimensions.\n",
    "\n",
    "Finally, we will simulate a galaxy and, from this simuilation, we will then compute rotation curves.\n"
   ]
  },
  {
   "cell_type": "markdown",
   "id": "5cf300ff",
   "metadata": {
    "id": "5cf300ff",
    "tags": [
     "learner",
     "md"
    ]
   },
   "source": [
    "<h3>Importing Libraries</h3>\n",
    "\n",
    "Before beginning, run the cell below to import the relevant libraries for this notebook."
   ]
  },
  {
   "cell_type": "code",
   "execution_count": null,
   "id": "06bdc10f",
   "metadata": {
    "id": "06bdc10f",
    "tags": [
     "learner",
     "py",
     "learner_chopped"
    ]
   },
   "outputs": [],
   "source": [
    "#>>>RUN: P4.0-runcell00\n",
    "\n",
    "#install the following:\n",
    "\n",
    "#!pip install imageio\n",
    "#!pip3 install torch torchvision torchaudio\n",
    "#!pip install lmfit"
   ]
  },
  {
   "cell_type": "code",
   "execution_count": null,
   "id": "10940911",
   "metadata": {
    "id": "06bdc10f",
    "tags": [
     "learner",
     "py",
     "learner_chopped"
    ]
   },
   "outputs": [],
   "source": [
    "#>>>RUN: P4.0-runcell01\n",
    "\n",
    "import itertools\n",
    "from IPython.display import HTML\n",
    "from scipy.integrate import odeint\n",
    "import matplotlib.patches as patches\n",
    "import numpy as np\n",
    "import matplotlib.pyplot as plt\n",
    "from matplotlib import animation\n",
    "from matplotlib.animation import PillowWriter\n",
    "import imageio\n",
    "from IPython.display import Image\n",
    "import random"
   ]
  },
  {
   "cell_type": "markdown",
   "id": "2305bb60",
   "metadata": {
    "id": "2305bb60",
    "tags": [
     "learner",
     "md"
    ]
   },
   "source": [
    "<h3>Setting Default Figure Parameters</h3>\n",
    "\n",
    "The following code cell sets default values for figure parameters."
   ]
  },
  {
   "cell_type": "code",
   "execution_count": null,
   "id": "f957ae03",
   "metadata": {
    "id": "f957ae03",
    "tags": [
     "learner",
     "py",
     "learner_chopped"
    ]
   },
   "outputs": [],
   "source": [
    "#>>>RUN: P4.0-runcell02\n",
    "\n",
    "#set plot resolution\n",
    "%config InlineBackend.figure_format = 'retina'\n",
    "\n",
    "#set default figure parameters\n",
    "plt.rcParams['figure.figsize'] = (9,6)\n",
    "\n",
    "medium_size = 12\n",
    "large_size = 15\n",
    "\n",
    "plt.rc('font', size=medium_size)          # default text sizes\n",
    "plt.rc('xtick', labelsize=medium_size)    # xtick labels\n",
    "plt.rc('ytick', labelsize=medium_size)    # ytick labels\n",
    "plt.rc('legend', fontsize=medium_size)    # legend\n",
    "plt.rc('axes', titlesize=large_size)      # axes title\n",
    "plt.rc('axes', labelsize=large_size)      # x and y labels\n",
    "plt.rc('figure', titlesize=large_size)    # figure title\n"
   ]
  },
  {
   "cell_type": "markdown",
   "id": "b7a7f5b7",
   "metadata": {
    "id": "b7a7f5b7",
    "tags": [
     "learner",
     "md"
    ]
   },
   "source": [
    "<a name='section_4_1'></a>\n",
    "<hr style=\"height: 1px;\">\n",
    "\n",
    "## <h2 style=\"border:1px; border-style:solid; padding: 0.25em; color: #FFFFFF; background-color: #90409C\">P4.1 Double Pendulum</h2>    \n",
    "\n",
    "| [Top](#section_4_0) | [Previous Section](#section_4_0) | [Problems](#problems_4_1) | [Next Section](#section_4_3) |\n"
   ]
  },
  {
   "cell_type": "markdown",
   "id": "267f5cf7",
   "metadata": {
    "id": "267f5cf7",
    "tags": [
     "learner",
     "md"
    ]
   },
   "source": [
    "<h3>Overview</h3>\n",
    "\n",
    "The double pendulum is a system in classical mechanics where one pendulum is attached to the end of another pendulum. Its equations of motion are usually expressed using the Lagrangian mechanics and solved numerically, which is what we will do in this problem"
   ]
  },
  {
   "cell_type": "code",
   "execution_count": null,
   "id": "73d7a048",
   "metadata": {
    "tags": [
     "learner",
     "py",
     "learner_chopped"
    ]
   },
   "outputs": [],
   "source": [
    "#Below is a reworking of \n",
    "#https://scipython.com/blog/the-double-pendulum/\n",
    "#https://github.com/zaman13/Double-Pendulum-Motion-Animation/blob/master/Python%20Code/Double_Pendulum_v1.py\n",
    "\n",
    "## Setting up the differential equations to be solved\n",
    "\n",
    "def theta1ddot(theta1,theta1dot,theta2,theta2dot,m,ell,g):\n",
    "        st1t2=np.sin(theta1-theta2)\n",
    "        ct1t2=np.cos(theta1-theta2)\n",
    "        term1=-m*ell**2*st1t2*(ct1t2*theta1dot**2 + theta2dot**2)\n",
    "        term2= m*g*ell*(-2*np.sin(theta1)+np.sin(theta2)*ct1t2)\n",
    "        denom=m*ell**2*(1+st1t2**2)\n",
    "        return (term1+term2)/denom\n",
    "\n",
    "def theta2ddot(theta1,theta1dot,theta2,theta2dot,m,ell,g):\n",
    "        st1t2=np.sin(theta1-theta2)\n",
    "        ct1t2=np.cos(theta1-theta2)\n",
    "        term1=m*ell**2*st1t2*(ct1t2*theta2dot**2 + 2*theta1dot**2)\n",
    "        term2=2*m*g*ell*(-np.sin(theta2)+np.sin(theta1)*ct1t2)\n",
    "        denom=m*ell**2*(1+st1t2**2)\n",
    "        return (term1+term2)/denom\n",
    "\n",
    "\n",
    "def ode(y, t, l, m, g):\n",
    "    \"\"\"Return the first derivatives of y = theta1, z1, theta2, z2.\"\"\"\n",
    "    theta1, theta1dot, theta2, theta2dot = y\n",
    "    t1ddt=theta1ddot(theta1,theta1dot,theta2,theta2dot,m,l,g)\n",
    "    t2ddt=theta2ddot(theta1,theta1dot,theta2,theta2dot,m,l,g)\n",
    "    return theta1dot,t1ddt,theta2dot,t2ddt\n",
    "\n",
    "def energy(y,l,m,g):\n",
    "    theta1, theta1dot, theta2, theta2dot = y.T # Note the.T transposes it so we can unpack\n",
    "    ct1t2=np.cos(theta1-theta2)\n",
    "    U=-2*m*g*l*np.cos(theta1)-m*g*l*np.cos(theta2)\n",
    "    K=m*l**2*theta1dot**2+m*l**2/2*(theta2dot**2+2*theta1dot*theta2dot*ct1t2)\n",
    "    return K+U\n",
    "\n",
    "## set up pendulum parameters\n",
    "l=5#m\n",
    "m=1#kg\n",
    "g=9.8#kgm/s^2"
   ]
  },
  {
   "cell_type": "markdown",
   "id": "fe08ba86",
   "metadata": {
    "id": "fe08ba86",
    "tags": [
     "learner",
     "md",
     "learner_chopped"
    ]
   },
   "source": [
    "<a name='problems_4_1'></a>     \n",
    "\n",
    "| [Top](#section_4_0) | [Restart Section](#section_4_1) | [Next Section](#section_4_2) |\n"
   ]
  },
  {
   "cell_type": "markdown",
   "id": "a62020af",
   "metadata": {
    "id": "a62020af",
    "tags": [
     "learner",
     "md",
     "learner_chopped"
    ]
   },
   "source": [
    "### <span style=\"border:3px; border-style:solid; padding: 0.15em; border-color: #90409C; color: #90409C;\">Problem 4.1.1</span>\n",
    "\n",
    "Later in this problem when doing the numerics, one parameter we can easily calculate is the energy of the system. Before doing any numerics, is energy conserved in this system?\n"
   ]
  },
  {
   "cell_type": "markdown",
   "id": "9211fe57",
   "metadata": {
    "id": "a62020af",
    "tags": [
     "learner",
     "md",
     "learner_chopped"
    ]
   },
   "source": [
    "### <span style=\"border:3px; border-style:solid; padding: 0.15em; border-color: #90409C; color: #90409C;\">Problem 4.1.2</span>\n",
    "\n",
    "Report the total energy for systems with the following initial conditions (consider four separate cases and report your answer as a list of number with precision 1e-1): `[energy case1, energy case2, energy case3, energy case4]`\n",
    "\n",
    "Case 1: no initial amplitude, no initial angular velocity\\\n",
    "Case 2: small initial amplitude of pendulum 1 only (other initial conditions zero): `theta1=0.02*pi`\\\n",
    "Case 3: larger initial amplitude of both pendula (angular velocities zero): `theta1=0.3*pi`, `theta2=0.2*pi`\\\n",
    "Case 4: nearly vertical (angular velocities zero): `theta1=0.9*pi`, `theta2=*pi`"
   ]
  },
  {
   "cell_type": "code",
   "execution_count": null,
   "id": "17072bb4",
   "metadata": {
    "id": "b7e7516d",
    "tags": [
     "draft",
     "py",
     "learner_chopped"
    ]
   },
   "outputs": [],
   "source": [
    "#>>>PROBLEM: P4.1.2\n",
    "# Use this cell for drafting your solution (if desired),\n",
    "# then enter your solution in the interactive problem online to be graded.\n",
    "\n",
    "#define arrays for the 4 cases by setting the initial conditions in y0,\n",
    "#e.g., y0_case1=np.array([theta1_case1, theta1dot_case1, theta2_case1, theta2dot_case1])\n",
    "\n",
    "y0_case1 = #YOUR CODE HERE\n",
    "y0_case2 = #YOUR CODE HERE\n",
    "y0_case3 = #YOUR CODE HERE\n",
    "y0_case4 = #YOUR CODE HERE\n",
    "\n",
    "#print the energy for each case, using `energy(y,l,m,g)`"
   ]
  },
  {
   "cell_type": "markdown",
   "id": "61b4828d",
   "metadata": {
    "id": "a62020af",
    "tags": [
     "learner",
     "md",
     "learner_chopped"
    ]
   },
   "source": [
    "### <span style=\"border:3px; border-style:solid; padding: 0.15em; border-color: #90409C; color: #90409C;\">Problem 4.1.3</span>\n",
    "\n",
    "Before doing a simulation, it can be useful to think about test cases where you know the answer to check your simulation outputs. One simple way to decompose a system is into normal modes. \n",
    "\n",
    "\n",
    "Which of the following statements is true about the normal modes of a double-pendulum system?\n",
    "\n",
    "A) There is only one normal mode, which is called the out-of-phase mode.\\\n",
    "B) There are two normal modes, which are called the in-phase mode and the out-of-phase mode.\\\n",
    "C) There are three normal modes, which are called the in-phase mode, the out-of-phase mode, and the chaotic mode.\\\n",
    "D) There are four normal modes, which are called the in-phase mode, the out-of-phase mode, the chaotic mode, and the stable mode.\n",
    "\n"
   ]
  },
  {
   "cell_type": "markdown",
   "id": "c4b2ded7",
   "metadata": {
    "tags": [
     "learner",
     "md"
    ]
   },
   "source": [
    "<h3>Run the Simulation</h3>\n",
    "\n",
    "Now run the cells below to see the simulation."
   ]
  },
  {
   "cell_type": "code",
   "execution_count": null,
   "id": "10372b65",
   "metadata": {
    "tags": [
     "py",
     "learner_chopped",
     "learner"
    ]
   },
   "outputs": [],
   "source": [
    "## Solve the differenial equation with odeint and make a video of the bob's motion\n",
    "def run(y0):\n",
    "\n",
    "    # y0 is the initial conditions theta1, theta1dot, theta2, theta2dot = y\n",
    "    # for example y0=np.array([np.pi*0.1,0,np.pi*0.2,0])\n",
    "    \n",
    "    #Time\n",
    "    tmax=30#s\n",
    "    dt=1e-2#s\n",
    "    t=np.arange(0, tmax+dt, dt)\n",
    "\n",
    "    #The works\n",
    "    y = odeint(ode, y0, t, args=(l,m,g))\n",
    "    #print(y)\n",
    "    \n",
    "    #the check\n",
    "    en=energy(y,l,m,g)\n",
    "    \n",
    "    return t,y,en\n",
    "    \n",
    "    \n",
    "#===========Plotting \n",
    "def make_plot(i,y,l,g,ax,fig,images):\n",
    "    plt.cla()\n",
    "    # Plot and save an image of the double pendulum configuration for time\n",
    "    # point i.\n",
    "    # The pendulum rods.\n",
    "    theta1=y[:,0]\n",
    "    theta2=y[:,2]\n",
    "    x1 = l  * np.sin(theta1)\n",
    "    y1 = -l * np.cos(theta1)\n",
    "    x2 = x1 + l * np.sin(theta2)\n",
    "    y2 = y1 - l * np.cos(theta2)\n",
    "    ax.plot([0, x1[i], x2[i]], [0, y1[i], y2[i]], lw=2, c='k')\n",
    "\n",
    "    # Circles representing the anchor point of rod 1, and bobs 1 and 2.\n",
    "    r = 0.35\n",
    "    c0 = patches.Circle((0, 0), r/2, fc='k', zorder=10)\n",
    "    c1 = patches.Circle((x1[i], y1[i]), r, fc='b', ec='b', zorder=10)\n",
    "    c2 = patches.Circle((x2[i], y2[i]), r, fc='r', ec='r', zorder=10)\n",
    "    ax.add_patch(c0)\n",
    "    ax.add_patch(c1)\n",
    "    ax.add_patch(c2)\n",
    "\n",
    "    # The trail will be divided into ns segments and plotted as a fading line.\n",
    "    ns = 20\n",
    "    trail_secs = 1\n",
    "    dt=1e-2#s\n",
    "    max_trail = int(1 / dt)\n",
    "    s = max_trail // ns\n",
    "\n",
    "    for j in range(ns):\n",
    "        imin = i - (ns-j)*s\n",
    "        if imin < 0:\n",
    "            continue\n",
    "        imax = imin + s + 1\n",
    "        # The fading looks better if we square the fractional length along the\n",
    "        # trail.\n",
    "        alpha = (j/ns)**2\n",
    "        ax.plot(x2[imin:imax], y2[imin:imax], c='r', solid_capstyle='butt',\n",
    "                lw=2, alpha=alpha)\n",
    "\n",
    "    # Centre the image on the fixed anchor point, and ensure the axes are equal\n",
    "    ax.set_xlim(-l-l-r, l+l+r)\n",
    "    ax.set_ylim(-l-l-r, l+l+r)\n",
    "    ax.set_aspect('equal', adjustable='box')\n",
    "    plt.axis('off')\n",
    "    fps = 10\n",
    "    di = int(1/fps/dt)\n",
    "    # plt.savefig('frames/_img{:04d}.png'.format(i//di), dpi=72)\n",
    "    # plt.cla()\n",
    "    #plt.show()\n",
    "    fig.canvas.draw()       # draw the canvas, cache the renderer\n",
    "    image = np.frombuffer(fig.canvas.tostring_rgb(), dtype='uint8')\n",
    "    image  = image.reshape(fig.canvas.get_width_height()[::-1] + (3,))\n",
    "    images.append(image)"
   ]
  },
  {
   "cell_type": "code",
   "execution_count": null,
   "id": "1ad66280",
   "metadata": {
    "tags": [
     "py",
     "learner_chopped",
     "learner"
    ]
   },
   "outputs": [],
   "source": [
    "#set the initial conditions and run the simulation\n",
    "\n",
    "#Define a new y0, or test cases defined previously\n",
    "#e.g.,y0=y0_case1\n",
    "#y0 = #YOUR CODE HERE\n",
    "\n",
    "y0=y0_case3\n",
    "\n",
    "t,y,en=run(y0)\n",
    "\n",
    "fps = 1000\n",
    "dt=.0001\n",
    "di = int(1/fps/dt)\n",
    "fig = plt.figure(figsize=(8.3333, 6.25), dpi=72)\n",
    "ax = fig.add_subplot(111)\n",
    "\n",
    "# Create the output of the simulation, stored in the variable `images`\n",
    "images=[]\n",
    "for i in range(0, t.size, di):\n",
    "    #print(i // di, '/', t.size // di)\n",
    "    make_plot(i,y,l,g,ax,fig,images)\n",
    "    \n",
    "\n",
    "# Comment out plt.close() to view the last image from the simulation, if desired\n",
    "plt.close()\n",
    "\n",
    "#save the gif\n",
    "imageio.mimsave('./double_p.gif', images, fps=10)"
   ]
  },
  {
   "cell_type": "code",
   "execution_count": null,
   "id": "0e1f97b0",
   "metadata": {
    "tags": [
     "py",
     "learner",
     "learner_chopped"
    ]
   },
   "outputs": [],
   "source": [
    "# VIEW THE GIF\n",
    "# comment out the line and run again to hide\n",
    "\n",
    "#Image(open('double_p.gif','rb').read())"
   ]
  },
  {
   "cell_type": "code",
   "execution_count": null,
   "id": "47ca25ec",
   "metadata": {
    "tags": [
     "py",
     "learner_chopped",
     "learner"
    ]
   },
   "outputs": [],
   "source": [
    "## plot the bobs' angles vs time and energy\n",
    "## use previously defined y0, above\n",
    "\n",
    "plt.plot(t,y[:,0],color='blue')\n",
    "plt.plot(t,y[:,2],color='red')\n",
    "plt.xlabel(\"Time [seconds]\")\n",
    "plt.ylabel(r\"$\\theta$\")\n",
    "plt.show()\n",
    "\n",
    "\n",
    "plt.plot(t,en,color='blue')\n",
    "plt.xlabel(\"Time [seconds]\")\n",
    "plt.ylabel(\"Energy\")\n",
    "plt.show()\n",
    "\n",
    "fig = plt.figure(figsize=(8.3333, 6.25), dpi=72)\n",
    "ax = fig.add_subplot(111)\n",
    "make_plot(10,y,l,g,ax,fig,images)\n",
    "plt.show()"
   ]
  },
  {
   "cell_type": "markdown",
   "id": "d862e827",
   "metadata": {
    "id": "a62020af",
    "tags": [
     "learner",
     "md",
     "learner_chopped"
    ]
   },
   "source": [
    "### <span style=\"border:3px; border-style:solid; padding: 0.15em; border-color: #90409C; color: #90409C;\">Problem 4.1.4</span>\n",
    "\n",
    "For each of the following initial conditions, describe the bob's motion. To do this, edit and run the relevant code above and analyze plots of $\\theta$ vs. $t$ for each case.\n",
    "\n",
    "<pre>\n",
    "#initial conditions:\n",
    "y0_case1=np.array([0,0,0,0])\n",
    "y0_case2=np.array([np.pi*0.02,0,np.pi*0.0,0])\n",
    "y0_case3=np.array([np.pi*0.3,0,np.pi*0.2,0])\n",
    "y0_case4=np.array([np.pi*.9,0,np.pi*1,0]) \n",
    "</pre>\n",
    "\n",
    "Select your answer for each case from the following options:\n",
    "\n",
    "A) Stationary\\\n",
    "B) Each bob oscillates at a single frequency\\\n",
    "C) Each bob oscillates periodically and displays beats\\\n",
    "D) One bob oscillates periodically and one bob oscillates chaotically\\\n",
    "E) Both bobs oscillate chaotically\n",
    "\n",
    "\n",
    "Enter your answer as a list of **uppercase** letters, corresponding to the correct choices for each set of initial conditions, i.e.: `[answer case1, answer case2, answer case3, answer case4 ]` should be entered as, e.g., `['A','B','C','D']`, where the letters are **capitalized** and listed as strings."
   ]
  },
  {
   "cell_type": "markdown",
   "id": "7107b5fe",
   "metadata": {
    "id": "a62020af",
    "tags": [
     "learner",
     "md",
     "learner_chopped"
    ]
   },
   "source": [
    "### <span style=\"border:3px; border-style:solid; padding: 0.15em; border-color: #90409C; color: #90409C;\">Problem 4.1.5</span>\n",
    "\n",
    "\n",
    "Is energy conserved during the evolution for each of the above initial conditions? Try plotting the energy in each case to determine your answer.\n",
    "\n",
    "A) Yes.\\\n",
    "B) No, the energy fluctuates significantly as the pendula move.\\\n",
    "C) No, the energy decays significantly when the bobs are moving."
   ]
  },
  {
   "cell_type": "markdown",
   "id": "b62cb0c0-c8f1-4b95-afed-fe3410597f29",
   "metadata": {
    "id": "b62cb0c0-c8f1-4b95-afed-fe3410597f29",
    "tags": [
     "learner",
     "md",
     "learner_chopped"
    ]
   },
   "source": [
    "<!--start-block-->\n",
    "<a name='section_4_3'></a>\n",
    "<hr style=\"height: 1px;\">\n",
    "\n",
    "## <h2 style=\"border:1px; border-style:solid; padding: 0.25em; color: #FFFFFF; background-color: #90409C\">P4.3 Maxwell-Boltzmann Distribution from Molecular Simulation</h2>\n",
    "\n",
    "| [Top](#section_4_0) | [Previous Section](#section_4_1) | [Problems](#problems_4_3) | [Next Section](#section_4_4) |"
   ]
  },
  {
   "cell_type": "markdown",
   "id": "8efd6aa0-be3f-474e-b252-b33b98d49da1",
   "metadata": {
    "id": "8efd6aa0-be3f-474e-b252-b33b98d49da1",
    "tags": [
     "learner",
     "md"
    ]
   },
   "source": [
    "<h3>Overview</h3>\n",
    "\n",
    "In this section, you will code the microscopic simulation of an ideal gas, where the particles move freely inside a stationary container without interacting with one another, except for very brief collisions in which they exchange energy and momentum with each other or with their thermal environment.\n",
    "\n",
    "Then we will derive the <a href=\"https://en.wikipedia.org/wiki/Maxwell%E2%80%93Boltzmann_distribution\" target=\"_blank\">Maxwell-Boltzmann distribution</a>, which describes velocity distribution of these idela gas particles, using the microscopic simulation.\n",
    "\n",
    "\n"
   ]
  },
  {
   "cell_type": "markdown",
   "id": "9ff64038",
   "metadata": {
    "id": "fe08ba86",
    "tags": [
     "learner",
     "md",
     "learner_chopped"
    ]
   },
   "source": [
    "<a name='problems_4_3'></a>     \n",
    "\n",
    "| [Top](#section_4_0) | [Restart Section](#section_4_3) | [Next Section](#section_4_4) |"
   ]
  },
  {
   "cell_type": "markdown",
   "id": "072218db-3d0d-4fda-97bd-90ee2402b855",
   "metadata": {
    "id": "072218db-3d0d-4fda-97bd-90ee2402b855",
    "tags": [
     "learner",
     "md",
     "learner_chopped"
    ]
   },
   "source": [
    "### <span style=\"border:3px; border-style:solid; padding: 0.15em; border-color: #90409C; color: #90409C;\">Problem 4.3.1</span>\n",
    "\n",
    "We know that for elastic collsion of a mass with a wall (stationary infinite mass object), the velocity component perpendicular to the wall flips direction, while the horizontal component stays the same.\n",
    "\n",
    "<p align=\"center\">\n",
    "<img alt=\"Wall Collision\" src=\"https://github.com/SangeonPark/psets/blob/main/pset4/images/wall_collision.png?raw=1\" width=\"300\"/>\n",
    "</p>\n",
    "\n",
    "$$v_{f, \\perp} = -v_{i,\\perp} $$\n",
    "\n",
    "$$v_{f, \\parallel} = v_{i,\\parallel} $$\n",
    "\n",
    "\n",
    "Complete the code for `wall_collision`, which takes as input `pos` and `vel` that represents position and velocity vectors of particles, and returns the velocity vectors after the collsion with four sides of the wall. Assume that both `pos` and `vel` have shape `[n_particles, 2]`.\n",
    "\n",
    "Assume that the 2D box is a square with side length `L` equal to 1."
   ]
  },
  {
   "cell_type": "code",
   "execution_count": null,
   "id": "a2e5843b-3296-4aee-9346-8d3db9a9d38d",
   "metadata": {
    "id": "a2e5843b-3296-4aee-9346-8d3db9a9d38d",
    "tags": [
     "draft",
     "py",
     "learner_chopped"
    ]
   },
   "outputs": [],
   "source": [
    "#>>>PROBLEM: P4.3.1\n",
    "\n",
    "def wall_collision(pos, vel):\n",
    "\n",
    "    #collsion with the right wall\n",
    "    vel[pos[:, 0] > 1, 0] = #Your code goes here\n",
    "\n",
    "    #collision with the left wall\n",
    "    vel[pos[:, 0] < 0, 0] = #Your code goes here\n",
    "\n",
    "    #collision with the top wall\n",
    "    vel[pos[:, 1] > 1, 1] = #Your code goes here\n",
    "\n",
    "    #collsion with the bottom wall\n",
    "    vel[pos[:, 1] < 0, 1] = #Your code goes here\n",
    "    return vel\n",
    "\n",
    "\n",
    "#-----------------------------------------------------\n",
    "# CHECK YOUR RESULT\n",
    "\n",
    "# Sample positions (x, y) of particles\n",
    "pos_initial = np.array([\n",
    "    [0.5, 0.5],  # Inside the box\n",
    "    [1.5, 0.5],  # Colliding with the right wall\n",
    "    [-0.5, 0.5], # Colliding with the left wall\n",
    "    [0.5, 1.5],  # Colliding with the top wall\n",
    "    [0.5, -0.5]  # Colliding with the bottom wall\n",
    "])\n",
    "\n",
    "# Sample velocities (vx, vy) of particles\n",
    "vel_initial = np.array([\n",
    "    [0.1, 0.1],  # Random velocity\n",
    "    [0.2, 0.2],  # Random velocity\n",
    "    [-0.3, -0.3],# Random velocity\n",
    "    [0.4, 0.4],  # Random velocity\n",
    "    [-0.5, -0.5] # Random velocity\n",
    "])\n",
    "\n",
    "print(\"Original Velocities:\\n\", vel_initial)\n",
    "\n",
    "# Apply the wall_collision function to the sample data\n",
    "updated_vel = wall_collision(pos_initial, vel_initial)\n",
    "\n",
    "# Print the updated velocities after collision handling\n",
    "print(\"\\nUpdated Velocities after Collision Handling:\\n\", updated_vel)"
   ]
  },
  {
   "cell_type": "markdown",
   "id": "635e75fe-3de5-4119-b75b-811c743b8580",
   "metadata": {
    "id": "635e75fe-3de5-4119-b75b-811c743b8580",
    "tags": [
     "learner",
     "md",
     "learner_chopped"
    ]
   },
   "source": [
    "### <span style=\"border:3px; border-style:solid; padding: 0.15em; border-color: #90409C; color: #90409C;\">Problem 4.3.2</span>\n",
    "\n",
    "Let's run a simulation of a single particle bouncing off four walls of a 2D box, using the above code you completed. The simulation will run in time steps `dt`, which is set to be a very small value.\n",
    "\n",
    "First, in each time step, we handle the wall collision of the particle, and flip the component of the velocity vector using function `wall_collision` we coded above.\n",
    "\n",
    "Then, we use the position update formula\n",
    "\n",
    "$$\\vec{x}_{i+1} = \\vec{x}_{i} + dt \\cdot \\vec{v}_{i+1}$$\n",
    "\n",
    "which is discretizing the continuous relation\n",
    "\n",
    "$$\\vec{v} = \\frac{d\\vec{x}}{dt} $$\n",
    "\n",
    "We save all the simulated position and velocity vectors in arrays of shape `[time_steps, n_particles ,2]`, where `n_particles` is equal to 1 in this case since we are simulating a single particle, and the last dimension saves the `x` and the `y` component of that particle.\n",
    "\n",
    "Check your result by printing the position and velocity of the particle in step `1111`."
   ]
  },
  {
   "cell_type": "code",
   "execution_count": null,
   "id": "54589c48-4134-4b95-8256-04b6f87f7be6",
   "metadata": {
    "id": "54589c48-4134-4b95-8256-04b6f87f7be6",
    "tags": [
     "draft",
     "py",
     "learner_chopped"
    ]
   },
   "outputs": [],
   "source": [
    "#>>>PROBLEM: P4.3.2\n",
    "\n",
    "def simulate_wall(pos, vel, time_steps, dt):\n",
    "    n_particles = pos.shape[0]\n",
    "    pos_simulated = np.zeros((time_steps,n_particles, 2))\n",
    "    vel_simulated = np.zeros((time_steps,n_particles, 2))\n",
    "\n",
    "    pos_simulated[0] = pos\n",
    "    vel_simulated[0] = vel\n",
    "\n",
    "    #update the position and velocity\n",
    "    for i in range(1,time_steps):\n",
    "        #Your code here\n",
    "\n",
    "    return pos_simulated, vel_simulated\n",
    "\n",
    "\n",
    "#-----------------------------------------------------\n",
    "# CHECK YOUR RESULT\n",
    "\n",
    "pos_sim, vel_sim = simulate_wall(np.array([[0.5,0.5]]), np.array([[200.0,100.0]]), 8000, 0.0001)\n",
    "print(pos_sim[1111][0], vel_sim[1111][0])"
   ]
  },
  {
   "cell_type": "markdown",
   "id": "kNa40FcG5stR",
   "metadata": {
    "id": "kNa40FcG5stR",
    "tags": [
     "learner",
     "md"
    ]
   },
   "source": [
    "<h3>Run the simulation!</h3>\n",
    "\n",
    "Run the code below to simulate a single particle bouncing off the walls."
   ]
  },
  {
   "cell_type": "code",
   "execution_count": null,
   "id": "9630933e-1562-4610-8b01-56adc0633c83",
   "metadata": {
    "colab": {
     "base_uri": "https://localhost:8080/",
     "height": 604
    },
    "id": "9630933e-1562-4610-8b01-56adc0633c83",
    "outputId": "978f1776-feb0-4b5a-b01a-95abe2ebc742",
    "tags": [
     "learner",
     "learner_chopped",
     "py"
    ]
   },
   "outputs": [],
   "source": [
    "#run the line below, if you have not previously\n",
    "pos_sim, vel_sim = simulate_wall(np.array([[0.5,0.5]]), np.array([[200.0,100.0]]), 8000, 0.0001)\n",
    "\n",
    "fig, ax = plt.subplots(1,1,figsize=(5,5))\n",
    "ax.clear()\n",
    "vmin = 0\n",
    "vmax = 1\n",
    "ax.set_xlim(0,1)\n",
    "ax.set_ylim(0,1)\n",
    "markersize = 2 * 0.005 * ax.get_window_extent().width  / (vmax-vmin) * 72./fig.dpi\n",
    "red, = ax.plot([], [], 'o', color='red', markersize=markersize)\n",
    "\n",
    "def animate(i):\n",
    "    xred, yred = pos_sim[i][:,0], pos_sim[i][:,1]\n",
    "    red.set_data(xred, yred)\n",
    "    return [red]\n",
    "\n",
    "\n",
    "ani = animation.FuncAnimation(fig, animate, frames=500, interval=50, blit=True)\n",
    "HTML(ani.to_jshtml())"
   ]
  },
  {
   "cell_type": "markdown",
   "id": "8eb3a90d-2c5d-4df0-8d9a-d01107af4f35",
   "metadata": {
    "id": "8eb3a90d-2c5d-4df0-8d9a-d01107af4f35",
    "tags": [
     "learner",
     "md"
    ]
   },
   "source": [
    "<h3> Interparticle Collisions </h3>\n",
    "\n",
    "Now let's write code that handles interparticle collisions. The ideal gas molecules don't interact with one another except for very brief collisions, in which they exchange energy and momentum with each other or with their thermal environment. For an ideal gas, all interparticle collisions will be elastic collsions.\n",
    "\n"
   ]
  },
  {
   "cell_type": "markdown",
   "id": "357406d0-1b20-4f6c-a0b0-a1c27b1ae08b",
   "metadata": {
    "id": "357406d0-1b20-4f6c-a0b0-a1c27b1ae08b",
    "tags": [
     "learner",
     "md",
     "learner_chopped"
    ]
   },
   "source": [
    "### <span style=\"border:3px; border-style:solid; padding: 0.15em; border-color: #90409C; color: #90409C;\">Problem 4.3.3</span>\n",
    "\n",
    "For practical implementation, in each simulation step, we need to track which pair of particles collide. We will perform an elastic collision between two particles when they get closer than a distance of one diamter. Thus, in order to detect a collision, first we have to calculate the center of mass distances between each particles.\n",
    "\n",
    "For bookkeeping indices, we give `n_particles` indices `0,1,...,n_particles-1`.\n",
    "\n",
    "Given position vectors `position` of shape `[n_particles, 2]` and an array of indices corresponding to the particle pairs `idx_pair` of shape `[n_pair, 2]`, where each row is `[index_particle1, index_particle2]`, write a function that computes an array of shape `[n_pair]`, which is a pairwise distance of particles between every index pair of particles.  \n",
    "\n",
    "For a given random `position` and `idx_pair` arrays below, report the resulting `distance_pairs` for the `0`, `23`, `234`, and `444`th entries."
   ]
  },
  {
   "cell_type": "code",
   "execution_count": null,
   "id": "20465609-849d-43f7-bd7a-e7bbcbd86c59",
   "metadata": {
    "id": "20465609-849d-43f7-bd7a-e7bbcbd86c59",
    "tags": [
     "draft",
     "py",
     "learner_chopped"
    ]
   },
   "outputs": [],
   "source": [
    "#>>>PROBLEM: P4.3.3\n",
    "\n",
    "# helper function that calculates distance between particles of given index pair\n",
    "def compute_distance_pairs(position, idx_pair):\n",
    "    delta_x = #Your code goes here\n",
    "    delta_y = #Your code goes here\n",
    "    distances = #np.sqrt(delta_x**2 + delta_y**2)\n",
    "    return distances\n",
    "\n",
    "\n",
    "#-----------------------------------------------------\n",
    "# CHECK YOUR RESULT\n",
    "\n",
    "np.random.seed(0x98a09fe)\n",
    "n_particles = 50 #number of particles\n",
    "pos_initial = np.random.rand(n_particles, 2)\n",
    "indices = np.arange(0,n_particles,1)\n",
    "idx_pair = np.array(list(itertools.combinations(indices,2)))\n",
    "print(compute_distance_pairs(pos_initial, idx_pair)[[0,23,234,444]])"
   ]
  },
  {
   "cell_type": "markdown",
   "id": "2451e04d-c62f-489b-9603-eaa4112845af",
   "metadata": {
    "id": "2451e04d-c62f-489b-9603-eaa4112845af",
    "tags": [
     "learner",
     "md",
     "learner_chopped"
    ]
   },
   "source": [
    "### <span style=\"border:3px; border-style:solid; padding: 0.15em; border-color: #90409C; color: #90409C;\">Problem 4.3.4</span>\n",
    "\n",
    "Now, given a distance pair array for a given array of index pairs, we need to calculate which pairs actually collide, meaning they satisfy the condition that the center of mass distance between a pair of particles is smaller than `2*particle_radius`.\n",
    "\n",
    "Write a simple function that takes `distance_pairs` as an input, and returns the array of indices of `idx_pairs` corresponding to pairs that collide. Hint: this should really just use a `np.where()` function!\n",
    "\n",
    "To check your answer, use the same random array of particles that you previously defined, the code for which is again included below. **Enter indices of pairs that collide, as a list**"
   ]
  },
  {
   "cell_type": "code",
   "execution_count": null,
   "id": "c77b01a5-9bad-4c47-870b-4c3f89f12301",
   "metadata": {
    "id": "c77b01a5-9bad-4c47-870b-4c3f89f12301",
    "tags": [
     "draft",
     "py",
     "learner_chopped"
    ]
   },
   "outputs": [],
   "source": [
    "#>>>PROBLEM: P4.3.4\n",
    "\n",
    "def which_pair_collides(distance_pairs):\n",
    "    #Your code goes here\n",
    "    pass\n",
    "\n",
    "\n",
    "#-----------------------------------------------------\n",
    "# CHECK YOUR RESULT\n",
    "\n",
    "np.random.seed(0x98a09fe)\n",
    "n_particles = 50 #number of particles\n",
    "pos_initial = np.random.rand(n_particles, 2)\n",
    "indices = np.arange(0,n_particles,1)\n",
    "idx_pair = np.array(list(itertools.combinations(indices,2)))\n",
    "\n",
    "particle_radius = 0.01\n",
    "distance_pairs = compute_distance_pairs(pos_initial, idx_pair)\n",
    "which_pair_collides(distance_pairs)"
   ]
  },
  {
   "cell_type": "markdown",
   "id": "cd99a92f-1462-4cf8-94ca-7435f91b5b6b",
   "metadata": {
    "id": "cd99a92f-1462-4cf8-94ca-7435f91b5b6b",
    "tags": [
     "learner",
     "md"
    ]
   },
   "source": [
    "<h3>Elastic Collsion of Particles</h3>\n",
    "\n",
    "\n",
    "<p align=\"center\">\n",
    "<img alt=\"unit circle wave decomposition\" src=\"https://upload.wikimedia.org/wikipedia/commons/2/2c/Elastischer_sto%C3%9F_2D.gif\" width=\"600\"/>\n",
    "</p>\n",
    "\n",
    ">source: https://commons.wikimedia.org/wiki/File:Animation_zum_Verst%C3%A4ndnis_der_Fourierentwicklung.gif<br>\n",
    ">attribution: PZim, CC BY-SA 3.0 <https://creativecommons.org/licenses/by-sa/3.0>, via Wikimedia Commons\n",
    "\n",
    "    \n",
    "When two particles get closer than 2 times the radius of the particle, we should perform elastic collision of particles.\n",
    "\n",
    "In an elastic collision (conservation of energy + momentum + angular momentum, although in this case we neglect angular momentum), one can show\n",
    "\n",
    "$$\\vec{v}_1^{\\text{new}} = \\vec{v}_1 - \\frac{(\\vec{v}_1 - \\vec{v}_2) \\cdot (\\vec{r}_1 - \\vec{r}_2)}{|\\vec{r}_1 - \\vec{r}_2|^2} (\\vec{r}_1 - \\vec{r}_2)$$\n",
    "$$\\vec{v}_2^{\\text{new}} = \\vec{v}_2 - \\frac{(\\vec{v}_2 - \\vec{v}_1) \\cdot (\\vec{r}_2 - \\vec{r}_1)}{|\\vec{r}_1 - \\vec{r}_2|^2} (\\vec{r}_2 - \\vec{r}_1)$$\n",
    "\n",
    "You can read more about it in <a href=\"https://en.wikipedia.org/wiki/Elastic_collision\" target=\"_blank\">Wikipedia</a> or any intro to mechanics class textbook.\n",
    "\n"
   ]
  },
  {
   "cell_type": "markdown",
   "id": "TplkTA4QE1R0",
   "metadata": {
    "id": "TplkTA4QE1R0",
    "tags": [
     "learner",
     "md",
     "learner_chopped"
    ]
   },
   "source": [
    "### <span style=\"border:3px; border-style:solid; padding: 0.15em; border-color: #90409C; color: #90409C;\">Problem 4.3.5</span>\n",
    "\n",
    "After a collision event, what is the final velocity of each of the two spheres?\n",
    "\n",
    "Complete the code for `pair_collsion` below, which takes `pos_1i`, `pos_2i`, `vel_1i` and `vel_2i` as inputs representing the position and velocity vectors of particles, and returns the velocity vectors after the collsion with four sides of the wall."
   ]
  },
  {
   "cell_type": "code",
   "execution_count": null,
   "id": "188c635f-4d09-4e47-b458-2dc5806caf31",
   "metadata": {
    "id": "188c635f-4d09-4e47-b458-2dc5806caf31",
    "tags": [
     "draft",
     "py",
     "learner_chopped"
    ]
   },
   "outputs": [],
   "source": [
    "#>>>PROBLEM: P4.3.5\n",
    "\n",
    "def pair_collision(pos_1i, pos_2i, vel_1i, vel_2i):\n",
    "    vel_1f = 0 #YOUR CODE HERE\n",
    "    vel_2f = 0 #YOUR CODE HERE\n",
    "    return vel_1f, vel_2f\n",
    "\n",
    "\n",
    "#-----------------------------------------------------\n",
    "# CHECK YOUR RESULT\n",
    "\n",
    "# Sample initial positions (x, y) and velocities (vx, vy) of two particles\n",
    "pos_1i = np.array([[0.5, 0.5],\n",
    "                   [0.8, 0.8]])\n",
    "pos_2i = np.array([[0.7, 0.6],\n",
    "                   [0.4, 0.4]])\n",
    "\n",
    "vel_1i = np.array([[0.1, 0.1],\n",
    "                   [-0.1, -0.1]])\n",
    "vel_2i = np.array([[-0.1, 0.1],\n",
    "                   [0.1, -0.1]])\n",
    "\n",
    "\n",
    "# Apply the pair_collision function to the sample data\n",
    "vel_1f, vel_2f = pair_collision(pos_1i, pos_2i, vel_1i, vel_2i)\n",
    "\n",
    "# Print the updated velocities after collision handling\n",
    "print(\"Initial Velocities:\")\n",
    "print(\"Particle 1:\", vel_1i)\n",
    "print(\"Particle 2:\", vel_2i)\n",
    "\n",
    "print(\"\\nUpdated Velocities after Collision Handling:\")\n",
    "print(\"Particle 1:\", vel_1f)\n",
    "print(\"Particle 2:\", vel_2f)"
   ]
  },
  {
   "cell_type": "markdown",
   "id": "c62b37d9-eab1-42c7-97f5-110057c5cff1",
   "metadata": {
    "id": "c62b37d9-eab1-42c7-97f5-110057c5cff1",
    "tags": [
     "learner",
     "md",
     "learner_chopped"
    ]
   },
   "source": [
    "### <span style=\"border:3px; border-style:solid; padding: 0.15em; border-color: #90409C; color: #90409C;\">Problem 4.3.6</span>\n",
    "\n",
    "Let's edit the `simulate` function we coded earlier to incorporate all particle-wise collisions.\n",
    "\n",
    "The `idx_pair` variable keeps index pairs of every possible pair of particles.\n",
    "\n",
    "We will handle pairwise collision as the first action in each loop, and wall collision afterwards.\n",
    "\n",
    "Complete the function!"
   ]
  },
  {
   "cell_type": "code",
   "execution_count": null,
   "id": "79621058-157b-4f46-84f5-90eb3425d9d2",
   "metadata": {
    "id": "79621058-157b-4f46-84f5-90eb3425d9d2",
    "tags": [
     "draft",
     "py",
     "learner_chopped"
    ]
   },
   "outputs": [],
   "source": [
    "#>>>PROBLEM: P4.3.6\n",
    "\n",
    "def simulate(pos, vel, time_steps, dt):\n",
    "\n",
    "    nparticles = pos.shape[0]\n",
    "    indices = np.arange(0,n_particles,1)\n",
    "    idx_pair = np.array(list(itertools.combinations(indices,2)))\n",
    "\n",
    "    pos_simulated = np.zeros((time_steps, n_particles, 2))\n",
    "    vel_simulated = np.zeros((time_steps, n_particles, 2))\n",
    "\n",
    "    pos_simulated[0] = pos\n",
    "    vel_simulated[0] = vel\n",
    "\n",
    "    #update the position and velocity based on particle collisions\n",
    "    #and wall collisions\n",
    "    for i in range(1,time_steps):\n",
    "        #Your code here\n",
    "\n",
    "    return pos_simulated, vel_simulated"
   ]
  },
  {
   "cell_type": "code",
   "execution_count": null,
   "id": "d16e5b6e",
   "metadata": {
    "id": "79621058-157b-4f46-84f5-90eb3425d9d2",
    "tags": [
     "draft",
     "py"
    ]
   },
   "outputs": [],
   "source": [
    "#>>>SOLUTION: P4.3.6\n",
    "\n",
    "def simulate(pos, vel, time_steps, dt):\n",
    "\n",
    "    nparticles = pos.shape[0]\n",
    "    indices = np.arange(0,n_particles,1)\n",
    "    idx_pair = np.array(list(itertools.combinations(indices,2)))\n",
    "\n",
    "    pos_simulated = np.zeros((time_steps, n_particles, 2))\n",
    "    vel_simulated = np.zeros((time_steps, n_particles, 2))\n",
    "\n",
    "    pos_simulated[0] = pos\n",
    "    vel_simulated[0] = vel\n",
    "\n",
    "    #update the position and velocity based on particle collisions\n",
    "    #and wall collisions\n",
    "    for i in range(1,time_steps):\n",
    "\n",
    "        collision_idx = which_pair_collides(compute_distance_pairs(pos, idx_pair))\n",
    "        v1f, v2f = pair_collision(pos[idx_pair[collision_idx][:,0]], pos[idx_pair[collision_idx][:,1]],\n",
    "                                  vel[idx_pair[collision_idx][:,0]], vel[idx_pair[collision_idx][:,1]])\n",
    "\n",
    "        vel[idx_pair[collision_idx][:,0]] = v1f\n",
    "        vel[idx_pair[collision_idx][:,1]] = v2f\n",
    "\n",
    "        vel = wall_collision(pos, vel)\n",
    "\n",
    "        pos = pos + vel * dt\n",
    "\n",
    "        vel_simulated[i] = vel\n",
    "        pos_simulated[i] = pos\n",
    "\n",
    "    return pos_simulated, vel_simulated"
   ]
  },
  {
   "cell_type": "markdown",
   "id": "7308df3a-57b6-4352-a516-579f22722f1d",
   "metadata": {
    "id": "7308df3a-57b6-4352-a516-579f22722f1d",
    "tags": [
     "learner",
     "md"
    ]
   },
   "source": [
    "<h3>Setting Parameters of our Simulation</h3>\n",
    "\n",
    "Now let's run this thing! It might take a few moments to complete..."
   ]
  },
  {
   "cell_type": "code",
   "execution_count": null,
   "id": "e3d5e35f-4139-4ee2-b0f5-545d02d7b4ac",
   "metadata": {
    "id": "e3d5e35f-4139-4ee2-b0f5-545d02d7b4ac",
    "tags": [
     "learner",
     "py",
     "learner_chopped"
    ]
   },
   "outputs": [],
   "source": [
    "np.random.seed(4150032420)\n",
    "n_particles = 65 #number of particles\n",
    "particle_radius = 0.003 #radius of individual particles\n",
    "L = 1 #side length of the box\n",
    "\n",
    "pos_initial = np.random.rand(n_particles, 2) #inditial position of particles\n",
    "# Setting up the initial 2D velocities of particles\n",
    "vel_initial = np.zeros((n_particles,2))\n",
    "vel_initial[pos_initial[:,0]>=L/2, 0] = -100\n",
    "vel_initial[pos_initial[:,0]<L/2, 0] = 100\n",
    "vel_initial[:, 1] = 0\n",
    "\n",
    "pos_sim, vel_sim = simulate(pos_initial, vel_initial, 5000, 0.0001)"
   ]
  },
  {
   "cell_type": "code",
   "execution_count": null,
   "id": "4b57e0b9-c3b9-46db-a4f5-6d4607ca608a",
   "metadata": {
    "colab": {
     "base_uri": "https://localhost:8080/",
     "height": 604
    },
    "id": "4b57e0b9-c3b9-46db-a4f5-6d4607ca608a",
    "outputId": "0808a89e-26ef-447a-e08b-0f5ac4a1478b",
    "tags": [
     "learner",
     "py",
     "learner_chopped"
    ]
   },
   "outputs": [],
   "source": [
    "fig, ax = plt.subplots(1,1,figsize=(5,5))\n",
    "ax.clear()\n",
    "vmin = 0\n",
    "vmax = 1\n",
    "ax.set_xlim(0,1)\n",
    "ax.set_ylim(0,1)\n",
    "markersize = 2 * particle_radius * ax.get_window_extent().width  / (vmax-vmin) * 72./fig.dpi\n",
    "red, = ax.plot([], [], 'o', color='red', markersize=markersize)\n",
    "\n",
    "def animate(i):\n",
    "    xred, yred = pos_sim[i][:,0], pos_sim[i][:,1]\n",
    "    red.set_data(xred, yred)\n",
    "    return [red]\n",
    "\n",
    "\n",
    "\n",
    "ani = animation.FuncAnimation(fig, animate, frames=500, interval=50, blit=True)\n",
    "HTML(ani.to_jshtml())"
   ]
  },
  {
   "cell_type": "markdown",
   "id": "291417f6-ed08-4697-bb7e-c7a558e73bab",
   "metadata": {
    "id": "291417f6-ed08-4697-bb7e-c7a558e73bab",
    "tags": [
     "learner",
     "md",
     "learner_chopped"
    ]
   },
   "source": [
    "### <span style=\"border:3px; border-style:solid; padding: 0.15em; border-color: #90409C; color: #90409C;\">Problem 4.3.7</span>\n",
    "\n",
    "Now, let's run the simulation until it reaches thermal equilibrium, and then compare the final velocity distribution of the particles to the Maxwell-Boltzmann distribution in 2 Dimensions:\n",
    "\n",
    "Using <a href=\"https://en.wikipedia.org/wiki/Equipartition_theorem\" target=\"_blank\">Equipartition Theorem</a> in thermal equilibrium, each degree of freedom contributes $\\frac{1}{2}k_B T$ to the average energy.\n",
    "\n",
    "In 2-dimensional space, there are 2 degrees of freedom:\n",
    "\n",
    "* $d \\times \\frac{1}{2}k_B T = 2 \\times \\frac{1}{2}k_B T = KE_{avg} = \\frac{1}{2}m\\bar{v^2} \\implies \\boxed{\\frac{m}{kT} = \\frac{2}{\\bar{v^2}}}$\n",
    "\n",
    "* $\\boxed{f(v) = \\frac{m}{kT} v \\exp\\left(-\\frac{m}{kT}\\frac{v^2}{2} \\right)}$\n",
    "\n",
    "\n",
    "Let's set the initial velocity to $100 m/s$, and use this fact to to calculate the value of $\\frac{m}{kT}$. Complete the function `maxwell_boltzmann(v)` with this information."
   ]
  },
  {
   "cell_type": "code",
   "execution_count": null,
   "id": "a1547c48-9e76-4f3a-b241-60a3f7ff2646",
   "metadata": {
    "colab": {
     "base_uri": "https://localhost:8080/"
    },
    "id": "a1547c48-9e76-4f3a-b241-60a3f7ff2646",
    "outputId": "50c5c78a-7b62-409c-8e27-db5bb659cf71",
    "tags": [
     "py",
     "draft",
     "learner_chopped"
    ]
   },
   "outputs": [],
   "source": [
    "#>>>PROBLEM: P4.3.7\n",
    "\n",
    "def maxwell_boltzmann(v):\n",
    "    fv = #YOUR CODE HERE\n",
    "    return fv\n",
    "\n",
    "\n",
    "#-----------------------------------------------------\n",
    "# CHECK YOUR RESULT\n",
    "\n",
    "v_test = np.linspace(0, 2000, 1001)\n",
    "print(maxwell_boltzmann(v_test)[np.where(v_test==100)[0]])"
   ]
  },
  {
   "cell_type": "markdown",
   "id": "77044396",
   "metadata": {
    "id": "7308df3a-57b6-4352-a516-579f22722f1d",
    "tags": [
     "learner",
     "md"
    ]
   },
   "source": [
    "<h3>Comparing Simulation to Theory</h3>\n",
    "\n",
    "We will now run a simulation and compare to the predicted distribution. Let's increase the number of particles in order to populate a histogram more completely. This might take some time..."
   ]
  },
  {
   "cell_type": "code",
   "execution_count": null,
   "id": "253ab5ba-2c00-423f-888d-9c1cc4a0ac7c",
   "metadata": {
    "colab": {
     "base_uri": "https://localhost:8080/",
     "height": 313
    },
    "id": "253ab5ba-2c00-423f-888d-9c1cc4a0ac7c",
    "outputId": "36c1a9ad-14d9-4aa1-9026-34f8cfcbfa1c",
    "tags": [
     "learner",
     "py",
     "learner_chopped"
    ]
   },
   "outputs": [],
   "source": [
    "#let's increase the number of particles significantly\n",
    "\n",
    "np.random.seed(673720454)\n",
    "n_particles = 400\n",
    "particle_radius = 0.0002\n",
    "v = np.linspace(0, 2000, 1001)\n",
    "\n",
    "pos_initial = np.random.rand(n_particles, 2)\n",
    "vel_initial = np.zeros((n_particles,2))\n",
    "thetas = np.random.rand(n_particles)* 2 * np.pi\n",
    "vel_initial[:, 0] = np.cos(thetas) * 100\n",
    "vel_initial[:, 1] = np.sin(thetas) * 100\n",
    "\n",
    "# This can take a while to run...\n",
    "pos_sim, vel_sim = simulate(pos_initial, vel_initial, 200000, 0.0000008)"
   ]
  },
  {
   "cell_type": "code",
   "execution_count": null,
   "id": "979c62bf-f7a0-4181-a51c-24fdda452e08",
   "metadata": {
    "colab": {
     "base_uri": "https://localhost:8080/",
     "height": 588
    },
    "id": "979c62bf-f7a0-4181-a51c-24fdda452e08",
    "outputId": "fe8ae9cd-dc87-4711-b5d6-02f64b0e2bf9",
    "tags": [
     "learner",
     "py",
     "learner_chopped"
    ]
   },
   "outputs": [],
   "source": [
    "bins = np.linspace(0,300,21)\n",
    "plt.clf()\n",
    "plt.figure()\n",
    "plt.hist(np.sqrt(np.sum(vel_sim[-1]**2, axis=1)), bins=bins, density=True)\n",
    "plt.plot(v,maxwell_boltzmann(v))\n",
    "plt.xlabel('Velocity [m/s]')\n",
    "plt.ylabel('# Particles')\n",
    "plt.xlim(0,300)\n",
    "#plt.show()"
   ]
  },
  {
   "cell_type": "markdown",
   "id": "fa96cf98-a10e-4b9b-91df-9fa0c4605a46",
   "metadata": {
    "id": "fa96cf98-a10e-4b9b-91df-9fa0c4605a46",
    "tags": [
     "learner",
     "md"
    ]
   },
   "source": [
    "With some simple simulation, we were able to obtain Maxwell-Boltzmann distribution! Now let's turn that into an animation and see how the distribution evolves from the initial uniform velocity."
   ]
  },
  {
   "cell_type": "code",
   "execution_count": null,
   "id": "8081a9c2-9fa5-43f6-a6c0-4196088fbefb",
   "metadata": {
    "colab": {
     "base_uri": "https://localhost:8080/",
     "height": 858
    },
    "id": "8081a9c2-9fa5-43f6-a6c0-4196088fbefb",
    "outputId": "17648852-bfc0-4100-8098-06fa7d35ab2d",
    "tags": [
     "learner",
     "py",
     "learner_chopped"
    ]
   },
   "outputs": [],
   "source": [
    "fig, axes = plt.subplots(1, 2, figsize=(9,4))\n",
    "axes[0].clear()\n",
    "vmin = 0\n",
    "vmax = 1\n",
    "axes[0].set_xlim(0,1)\n",
    "axes[0].set_ylim(0,1)\n",
    "axes[0].get_xaxis().set_visible(False)\n",
    "axes[0].get_yaxis().set_visible(False)\n",
    "markersize = 10*2 * particle_radius * axes[0].get_window_extent().width  / (vmax-vmin) * 72./fig.dpi\n",
    "red, = axes[0].plot([], [], 'o', color='red', markersize=markersize)\n",
    "n, bins, patches = axes[1].hist(np.sqrt(np.sum(vel_sim[0]**2, axis=1)), bins=bins, density=True)\n",
    "axes[1].plot(v,maxwell_boltzmann(v))\n",
    "axes[1].set_xlim(0,300)\n",
    "axes[1].set_ylim(0,0.01)\n",
    "axes[1].get_yaxis().set_visible(False)\n",
    "\n",
    "def animate(i):\n",
    "    xred, yred = pos_sim[i][:,0], pos_sim[i][:,1]\n",
    "    red.set_data(xred, yred)\n",
    "    hist, _ = np.histogram(np.sqrt(np.sum(vel_sim[i]**2, axis=1)), bins=bins, density=True)\n",
    "    for i, patch in enumerate(patches):\n",
    "        patch.set_height(hist[i])\n",
    "    return [red]\n",
    "\n",
    "from itertools import chain\n",
    "ani_hist = animation.FuncAnimation(fig, animate, frames=range(0,200000,500), interval=50, blit=True)\n",
    "#list(chain(range(100),range(100, 39500, 100), range(39500, 40000)))\n",
    "\n",
    "HTML(ani_hist.to_jshtml())"
   ]
  },
  {
   "cell_type": "markdown",
   "id": "y-77flG_JGFX",
   "metadata": {
    "id": "y-77flG_JGFX",
    "tags": [
     "learner",
     "md",
     "learner_chopped"
    ]
   },
   "source": [
    "<h3>Going Beyond: Other Energy Scales</h3>\n",
    "\n",
    "Does this simulation hold for all energy scales (i.e., initial velocity distributions)? Is energy always conserved (try making plots of total energy vs. time)? Consider if there any changes that you need to make when simulating a system with starting velocity of 500m/s or 1000m/s."
   ]
  },
  {
   "cell_type": "markdown",
   "id": "d5a56e3c-6a2f-406f-be20-0eadaf6a3659",
   "metadata": {
    "id": "d5a56e3c-6a2f-406f-be20-0eadaf6a3659",
    "tags": [
     "learner",
     "md",
     "learner_chopped"
    ]
   },
   "source": [
    "<!--start-block-->\n",
    "<a name='section_4_4'></a>\n",
    "<hr style=\"height: 1px;\">\n",
    "\n",
    "## <h2 style=\"border:1px; border-style:solid; padding: 0.25em; color: #FFFFFF; background-color: #90409C\">P4.4 Ideal Gas Law from Molecular Simulation</h2>\n",
    "\n",
    "| [Top](#section_4_0) | [Previous Section](#section_4_3) | [Problems](#problems_4_4) |"
   ]
  },
  {
   "cell_type": "markdown",
   "id": "cb3b6d5b-3d8b-43e2-97f3-1091b2b42d96",
   "metadata": {
    "id": "cb3b6d5b-3d8b-43e2-97f3-1091b2b42d96",
    "tags": [
     "learner",
     "md"
    ]
   },
   "source": [
    "<h3>Overview</h3>\n",
    "\n",
    "Now with the setup we just completed, we will derive ideal gas relations.\n",
    "\n",
    "The ideal gas law combines Gay-Lussac's law, Avogadro's law, and Boyle's law. We will confirm each of them through our molecular simulation and, in order to do that, we will compute macroscopic quantities such as pressure based on the microscopic components.\n",
    "\n",
    "In real life, it's easier to keep the pressure constant to atmospheric presure, and vary the volume. However, in simulations, it's easier to keep the volume constant and measure the pressure change.\n",
    "\n",
    "Therefore, for the case of Avogadro's law, we will show a version where we keep the volume constant and vary the number of particles, while observing the pressure.  "
   ]
  },
  {
   "cell_type": "markdown",
   "id": "b1da7795-4932-4c34-a0ce-c707e5facbe2",
   "metadata": {
    "id": "b1da7795-4932-4c34-a0ce-c707e5facbe2",
    "tags": [
     "learner",
     "md"
    ]
   },
   "source": [
    "<h3>Gay-Lussac's Law</h3>\n",
    "\n",
    "Firstly, we will check Gay-Lussac's law, which states that the pressure exerted by a given mass and constant volume of an ideal gas on the sides of its container is directly proportional to its absolute temperature. In practice, we will keep the volume of the box and the number of particles in the simulation constant, and we will show that $P \\propto T$. We then fit the data witha linear model to obtain the slope, $\\frac{P}{T} = A$ where $A$ is some constant.\n",
    "\n",
    "\n",
    "The pressure $P$ can be calculated as the following:\n",
    "\n",
    "$$P = \\frac{F}{4L}$$\n",
    "\n",
    "where $F$ is the force and $L$ is the side length of the box. We just need to compute the imparted force. Noting that $F = \\Delta p / \\Delta t$, we can compute the force as follows:\n",
    "\n",
    " * We track particles that hit the walls of the box and compute the change of momentum $\\Delta p_i = m \\Delta v_i$ given to the box at each time step.\n",
    " * The mass of the individual particles is kept constant.\n",
    " * The force is then $F = \\sum_i |\\Delta p_i| / \\Delta t$ where $\\Delta t$ is the length of time we sum the momentum change, after reaching thermal equilibrium\n",
    "\n",
    "Therefore,\n",
    "\n",
    " $$P = \\frac{m \\sum |\\Delta v_i|}{4L \\Delta t}$$\n",
    "\n",
    "The temperate and the average temperature has relation by equipartition theorem as described above.\n",
    "\n",
    "$$d \\times \\frac{1}{2}k_B T = 2 \\times \\frac{1}{2}k_B T = k_B T = KE_{avg} = \\frac{1}{2}m\\bar{v^2} $$\n",
    "\n",
    "Therefore we get\n",
    "\n",
    " $$T = \\frac{m \\bar{v^2}}{2 k_B}$$\n",
    "\n",
    "where $\\bar{v^2}$ is the initial velocity magnitude that we set as a constant for every particle.\n",
    "\n",
    "Now, we see that both $P$ and $T$ have dependence on $m$, the particle mass. Since they cancel out for $P/T$, we will in practice calculate $P/m$ and $T/m$"
   ]
  },
  {
   "cell_type": "markdown",
   "id": "ac0f1e86",
   "metadata": {
    "id": "fe08ba86",
    "tags": [
     "learner",
     "md",
     "learner_chopped"
    ]
   },
   "source": [
    "<a name='problems_4_4'></a>     \n",
    "\n",
    "| [Top](#section_4_0) | [Restart Section](#section_4_4) |\n"
   ]
  },
  {
   "cell_type": "markdown",
   "id": "18f13f6b-b3b4-476a-b7b8-21d3d3c6c48b",
   "metadata": {
    "id": "18f13f6b-b3b4-476a-b7b8-21d3d3c6c48b",
    "tags": [
     "learner",
     "md",
     "learner_chopped"
    ]
   },
   "source": [
    "### <span style=\"border:3px; border-style:solid; padding: 0.15em; border-color: #90409C; color: #90409C;\">Problem 4.4.1</span>\n",
    "\n",
    "Write a function named `compute_delta_v` that takes 2 inputs: a velocity before collsion with the wall, `vel_i`, the velocity after collision, `vel_f`, and then returns the sum of the change of magnitude of all the collsions with the wall:\n",
    "\n",
    "$$\\sum_i |\\Delta v_i|$$\n",
    "\n"
   ]
  },
  {
   "cell_type": "code",
   "execution_count": null,
   "id": "41590ae9-8429-490d-bdba-87c0c23713cc",
   "metadata": {
    "id": "41590ae9-8429-490d-bdba-87c0c23713cc",
    "tags": [
     "draft",
     "py",
     "learner_chopped"
    ]
   },
   "outputs": [],
   "source": [
    "#>>>PROBLEM: P4.4.1\n",
    "\n",
    "def compute_delta_v(vel_i, vel_f):\n",
    "    result = #YOUR CODE HERE\n",
    "    return result"
   ]
  },
  {
   "cell_type": "markdown",
   "id": "1fd3999d-71aa-4414-90a6-1f6a71cd40b1",
   "metadata": {
    "id": "1fd3999d-71aa-4414-90a6-1f6a71cd40b1",
    "tags": [
     "learner",
     "md"
    ]
   },
   "source": [
    "<h3>Augmenting the Simulation</h3>\n",
    "\n",
    "Let's add this to our simulation code to also keep track of $\\Delta v$"
   ]
  },
  {
   "cell_type": "code",
   "execution_count": null,
   "id": "578779ab-002e-4c8d-a1af-2be167e4f94f",
   "metadata": {
    "id": "578779ab-002e-4c8d-a1af-2be167e4f94f",
    "tags": [
     "learner",
     "py",
     "learner_chopped"
    ]
   },
   "outputs": [],
   "source": [
    "def simulate(pos, vel, time_steps, dt):\n",
    "\n",
    "\n",
    "    nparticles = pos.shape[0]\n",
    "    indices = np.arange(0,n_particles,1)\n",
    "    idx_pair = np.array(list(itertools.combinations(indices,2)))\n",
    "\n",
    "    pos_simulated = np.zeros((time_steps, n_particles, 2))\n",
    "    vel_simulated = np.zeros((time_steps, n_particles, 2))\n",
    "    dv = np.zeros((time_steps))\n",
    "\n",
    "    pos_simulated[0] = pos\n",
    "    vel_simulated[0] = vel\n",
    "    dv[0] = 0\n",
    "\n",
    "    for i in range(1,time_steps):\n",
    "\n",
    "        collision_idx = which_pair_collides(compute_distance_pairs(pos, idx_pair))\n",
    "        v1f, v2f = pair_collision(pos[idx_pair[collision_idx][:,0]], pos[idx_pair[collision_idx][:,1]],\n",
    "                                  vel[idx_pair[collision_idx][:,0]], vel[idx_pair[collision_idx][:,1]])\n",
    "\n",
    "        vel[idx_pair[collision_idx][:,0]] = v1f\n",
    "        vel[idx_pair[collision_idx][:,1]] = v2f\n",
    "\n",
    "        vel_before = vel.copy()\n",
    "        vel = wall_collision(pos, vel)\n",
    "        delta_v = compute_delta_v(vel_before, vel)\n",
    "        dv[i] = delta_v\n",
    "\n",
    "        pos = pos + vel * dt\n",
    "\n",
    "\n",
    "        vel_simulated[i] = vel\n",
    "        pos_simulated[i] = pos\n",
    "\n",
    "    return pos_simulated, vel_simulated, dv\n",
    "\n"
   ]
  },
  {
   "cell_type": "markdown",
   "id": "f5565083-111c-4faf-adb3-d7df975c05ba",
   "metadata": {
    "id": "f5565083-111c-4faf-adb3-d7df975c05ba",
    "tags": [
     "learner",
     "md",
     "learner_chopped"
    ]
   },
   "source": [
    "### <span style=\"border:3px; border-style:solid; padding: 0.15em; border-color: #90409C; color: #90409C;\">Problem 4.4.2</span>\n",
    "\n",
    "Now write a function named `compute_pressure` that takes 3 inputs: an array `dv_sim` which keeps track of the $\\Delta v$ in each simulation step, `npoints` the number of time steps we want to intergrate from the simulation end, and `dt` the length of the time step, then returns the pressure using the formula given in the overview section:\n",
    "\n",
    "$$P/m = \\frac{ \\sum |\\Delta v_i|}{4L \\Delta t}$$\n"
   ]
  },
  {
   "cell_type": "code",
   "execution_count": null,
   "id": "59490447-97de-40d4-a010-252777ef26a2",
   "metadata": {
    "id": "59490447-97de-40d4-a010-252777ef26a2",
    "tags": [
     "draft",
     "py",
     "learner_chopped"
    ]
   },
   "outputs": [],
   "source": [
    "#>>>PROBLEM: P4.4.2\n",
    "\n",
    "def compute_pressure(dv_sim, npoints, dt):\n",
    "    result = #YOUR CODE HERE\n",
    "    return result\n"
   ]
  },
  {
   "cell_type": "markdown",
   "id": "b0c22b9b",
   "metadata": {
    "id": "f5565083-111c-4faf-adb3-d7df975c05ba",
    "tags": [
     "learner",
     "md",
     "learner_chopped"
    ]
   },
   "source": [
    "### <span style=\"border:3px; border-style:solid; padding: 0.15em; border-color: #90409C; color: #90409C;\">Problem 4.4.3</span>\n",
    "\n",
    "As a check on your answer, use the function `compute_pressure` in the loop provided and enter the pressure for the case when `v_magnitude` is equal to $300 m/s$. Use precision `1e-3`. This will take a while!"
   ]
  },
  {
   "cell_type": "code",
   "execution_count": null,
   "id": "e42049ee",
   "metadata": {
    "colab": {
     "base_uri": "https://localhost:8080/",
     "height": 373
    },
    "id": "3e86e8b7-7765-48fc-a720-68e28e67b77d",
    "outputId": "35cdd967-5333-4c5b-ca54-47715bbd558c",
    "tags": [
     "py",
     "draft",
     "learner_chopped"
    ]
   },
   "outputs": [],
   "source": [
    "#>>>PROBLEM: P4.4.3\n",
    "\n",
    "np.random.seed(673720454)\n",
    "n_particles = 400 #number of particles\n",
    "pos_initial = np.random.rand(n_particles, 2)\n",
    "particle_radius = 0.0002\n",
    "\n",
    "npoints = 2000\n",
    "simulation_steps = 40000\n",
    "dt = 0.0000008\n",
    "\n",
    "pressure_list = []\n",
    "v_list = np.array([0, 300, 350, 400, 450])\n",
    "for v_magnitude in v_list:\n",
    "    np.random.seed(673720454)\n",
    "    vel_initial = np.zeros((n_particles,2))\n",
    "    thetas = np.random.rand(n_particles)* 2 * np.pi\n",
    "    vel_initial[:, 0] = np.cos(thetas) * v_magnitude\n",
    "    vel_initial[:, 1] = np.sin(thetas) * v_magnitude\n",
    "    pos_sim, vel_sim, dv_sim = simulate(pos_initial, vel_initial, simulation_steps, dt)\n",
    "    pressure = compute_pressure(dv_sim, npoints, dt)\n",
    "    pressure_list.append(pressure)\n",
    "\n",
    "print(pressure_list)"
   ]
  },
  {
   "cell_type": "markdown",
   "id": "0b203200-8f51-46e3-86ab-0155d5e9e45a",
   "metadata": {
    "id": "0b203200-8f51-46e3-86ab-0155d5e9e45a",
    "tags": [
     "learner",
     "md",
     "learner_chopped"
    ]
   },
   "source": [
    "### <span style=\"border:3px; border-style:solid; padding: 0.15em; border-color: #90409C; color: #90409C;\">Problem 4.4.4</span>\n",
    "\n",
    "Write a function named `compute_temperature` that takes 1 input: an array `v_list` of magnitudes of velocities, and returns an array of temperatures using the formula given in the overview section. Use `k_B=1.38e-23` J/K.\n",
    "\n",
    " $$T/m = \\frac{\\bar{v^2}}{2 k_B}$$\n",
    "\n",
    "Now we are able to make a plot of P vs. T, try it out!"
   ]
  },
  {
   "cell_type": "code",
   "execution_count": null,
   "id": "d35af142-e757-433a-a4d2-d26329c1dd48",
   "metadata": {
    "id": "d35af142-e757-433a-a4d2-d26329c1dd48",
    "tags": [
     "draft",
     "py",
     "learner_chopped"
    ]
   },
   "outputs": [],
   "source": [
    "#>>>PROBLEM: P4.4.4\n",
    "\n",
    "def compute_temperature(vel):\n",
    "    result = #YOUR CODE HERE\n",
    "    return result\n",
    "\n",
    "#MAKE A PLOT\n",
    "T = compute_temperature(v_list)\n",
    "plt.plot(T, pressure_list)"
   ]
  },
  {
   "cell_type": "markdown",
   "id": "a6ede05d-805b-488e-b936-892c6119e1f7",
   "metadata": {
    "id": "a6ede05d-805b-488e-b936-892c6119e1f7",
    "tags": [
     "learner",
     "md",
     "learner_chopped"
    ]
   },
   "source": [
    "### <span style=\"border:3px; border-style:solid; padding: 0.15em; border-color: #90409C; color: #90409C;\">Problem 4.4.5</span>\n",
    "\n",
    "Now let's use lmfit to get the slope of $P$ vs $T$ graph. Firstly, scale the $x$ axis by $10^{-27}$ and the $y$ axis by $10^{-7}$. Fit the data with a linear model.\n",
    "\n",
    "Enter the slope of the fit after fitting. Report your answer with precision `1e-2`."
   ]
  },
  {
   "cell_type": "code",
   "execution_count": null,
   "id": "7343184d-4c90-4ee8-9bc2-fc60a0bcbb73",
   "metadata": {
    "id": "7343184d-4c90-4ee8-9bc2-fc60a0bcbb73",
    "tags": [
     "draft",
     "py",
     "learner_chopped"
    ]
   },
   "outputs": [],
   "source": [
    "#>>>PROBLEM: P4.4.5\n",
    "\n",
    "import lmfit\n",
    "from lmfit import Model\n",
    "\n",
    "#YOUR CODE HERE"
   ]
  },
  {
   "cell_type": "markdown",
   "id": "26bdf169-310b-4f1a-8808-594255963dca",
   "metadata": {
    "id": "26bdf169-310b-4f1a-8808-594255963dca",
    "tags": [
     "learner",
     "md",
     "learner_chopped"
    ]
   },
   "source": [
    "### <span style=\"border:3px; border-style:solid; padding: 0.15em; border-color: #90409C; color: #90409C;\">Problem 4.4.6</span>\n",
    "\n",
    "As a next step, let's confirm the pressure version of Avogadro's law. In other words, let's show that with temperature and volume fixed, $P \\propto N$, where $N$ is the number of particles.\n",
    "\n",
    "Enter the value of the pressure when the number of particles is equal to 450. Use precision `1e-3`. This will take a while!"
   ]
  },
  {
   "cell_type": "code",
   "execution_count": null,
   "id": "070f7a85-8a5e-4c36-8cd6-9bcd3a4449d1",
   "metadata": {
    "id": "070f7a85-8a5e-4c36-8cd6-9bcd3a4449d1",
    "tags": [
     "py",
     "draft",
     "learner_chopped"
    ]
   },
   "outputs": [],
   "source": [
    "#>>>PROBLEM: P4.4.6\n",
    "\n",
    "np.random.seed(673720454)\n",
    "n_particles = 400 #number of particles\n",
    "pos_initial = np.random.rand(n_particles, 2)\n",
    "particle_radius = 0.0002\n",
    "\n",
    "npoints = 2000\n",
    "simulation_steps = 40000\n",
    "dt = 0.0000008\n",
    "nparticles_list = [300,350,400,450,500]\n",
    "pressure_list = []\n",
    "v_magnitude= 500\n",
    "\n",
    "for n_particles in nparticles_list:\n",
    "    np.random.seed(673720454)\n",
    "    #YOUR CODE HERE\n",
    "    pressure_list.append(pressure)\n",
    "\n",
    "print(pressure_list[3])\n",
    "\n",
    "#make a plot!\n",
    "plt.plot(nparticles_list, pressure_list)"
   ]
  },
  {
   "cell_type": "markdown",
   "id": "0db7f1a9-d4c3-4421-a723-82b1cccf83cc",
   "metadata": {
    "id": "0db7f1a9-d4c3-4421-a723-82b1cccf83cc",
    "tags": [
     "learner",
     "md",
     "learner_chopped"
    ]
   },
   "source": [
    "### <span style=\"border:3px; border-style:solid; padding: 0.15em; border-color: #90409C; color: #90409C;\">Problem 4.4.7</span>\n",
    "\n",
    "Finally, let's check Boyle's Law. We have to show that when we fix the number of particles and temperature, $P \\propto \\frac{1}{V}$. In order to do that, we should be able to vary the volume of the simulation by changing the side length variable `L` in the code.\n",
    "\n",
    "Edit the code for the function `wall_collision` so that you can vary the wall side length `L`. As before, assume that both `pos` and `vel` have shape `[n_particles, 2]`, but now allow the side length `L` to be a global variable, defined outside of this function.\n",
    "\n",
    "Then, enter the pressure value when the area of the container is equal to $4$. Finally draw the plot of the plot $P$ vs $\\frac{1}{V}$"
   ]
  },
  {
   "cell_type": "code",
   "execution_count": null,
   "id": "bba683e7-10fc-408c-a921-1e1488b036ad",
   "metadata": {
    "id": "bba683e7-10fc-408c-a921-1e1488b036ad",
    "tags": [
     "draft",
     "py",
     "learner_chopped"
    ]
   },
   "outputs": [],
   "source": [
    "#>>>PROBLEM: P4.4.7\n",
    "\n",
    "def wall_collision(pos, vel):\n",
    "    #collsion with the right wall\n",
    "    vel[pos[:, 0] > L, 0] = # Your code goes here.\n",
    "\n",
    "    #collision with the left wall\n",
    "    vel[pos[:, 0] < 0, 0] = # Your code goes here.\n",
    "\n",
    "    #collision with the top wall\n",
    "    vel[pos[:, 1] > L, 1] = # Your code goes here.\n",
    "\n",
    "    #collsion with the bottom wall\n",
    "    vel[pos[:, 1] < 0, 1] = # Your code goes here.\n",
    "    return vel\n",
    "\n",
    "#-----------------------------------------------------\n",
    "# CHECK YOUR RESULT\n",
    "\n",
    "L = 2.\n",
    "\n",
    "# Sample positions (x, y) of particles\n",
    "pos_initial = np.array([\n",
    "    [0.5, 0.5],  # Inside the box\n",
    "    [L+0.5, 0.5],  # Colliding with the right wall\n",
    "    [L-0.5, 0.5], # Colliding with the left wall\n",
    "    [0.5, L+0.5],  # Colliding with the top wall\n",
    "    [0.5, L-0.5]  # Colliding with the bottom wall\n",
    "])\n",
    "\n",
    "# Sample velocities (vx, vy) of particles\n",
    "vel_initial = np.array([\n",
    "    [0.1, 0.1],  # Random velocity\n",
    "    [0.2, 0.2],  # Random velocity\n",
    "    [-0.3, -0.3],# Random velocity\n",
    "    [0.4, 0.4],  # Random velocity\n",
    "    [-0.5, -0.5] # Random velocity\n",
    "])\n",
    "\n",
    "print(\"Original Velocities:\\n\", vel_initial)\n",
    "\n",
    "# Apply the wall_collision function to the sample data\n",
    "updated_vel = wall_collision(pos_initial, vel_initial)\n",
    "\n",
    "# Print the updated velocities after collision handling\n",
    "print(\"\\nUpdated Velocities after Collision Handling:\\n\", updated_vel)"
   ]
  },
  {
   "cell_type": "markdown",
   "id": "454cb54b",
   "metadata": {
    "id": "0db7f1a9-d4c3-4421-a723-82b1cccf83cc",
    "tags": [
     "learner",
     "md",
     "learner_chopped"
    ]
   },
   "source": [
    "### <span style=\"border:3px; border-style:solid; padding: 0.15em; border-color: #90409C; color: #90409C;\">Problem 4.4.8</span>\n",
    "\n",
    "Run the simulation below and enter the pressure value when the container has side length $L=2$. Draw the plot of the plot $P$ vs $\\frac{1}{V}$. This may take a while!"
   ]
  },
  {
   "cell_type": "code",
   "execution_count": null,
   "id": "45071f6f-df86-4461-aba9-1e21a30b290d",
   "metadata": {
    "id": "45071f6f-df86-4461-aba9-1e21a30b290d",
    "tags": [
     "learner",
     "py",
     "learner_chopped"
    ]
   },
   "outputs": [],
   "source": [
    "#>>>PROBLEM: P4.4.8\n",
    "\n",
    "np.random.seed(673720454)\n",
    "n_particles = 400 #number of particles\n",
    "pos_initial = np.random.rand(n_particles, 2)\n",
    "particle_radius = 0.0002\n",
    "\n",
    "npoints = 2000\n",
    "simulation_steps = 40000\n",
    "dt = 0.0000008\n",
    "pressure_list = []\n",
    "L_list = np.array([1,1.5,2,2.5,3])\n",
    "\n",
    "for L in L_list:\n",
    "    vel_initial = np.zeros((n_particles,2))\n",
    "    np.random.seed(673720454)\n",
    "    thetas = np.random.rand(n_particles)* 2 * np.pi\n",
    "    vel_initial[:, 0] = np.cos(thetas) * v_magnitude\n",
    "    vel_initial[:, 1] = np.sin(thetas) * v_magnitude\n",
    "    pos_sim, vel_sim, dv_sim = simulate(pos_initial, vel_initial, simulation_steps, dt)\n",
    "    pressure = compute_pressure(dv_sim, npoints, dt)\n",
    "    pressure_list.append(pressure)\n",
    "    #print(pressure)\n",
    "    \n",
    "print(pressure_list[2])\n",
    "\n",
    "#Make a plot!\n",
    "plt.plot(1/(L_list**2), pressure_list)"
   ]
  },
  {
   "cell_type": "markdown",
   "id": "89f174ec-8d64-418c-be73-5a6e5ba0a25c",
   "metadata": {
    "id": "89f174ec-8d64-418c-be73-5a6e5ba0a25c",
    "tags": [
     "learner",
     "md",
     "learner_chopped"
    ]
   },
   "source": [
    "### <span style=\"border:3px; border-style:solid; padding: 0.15em; border-color: #90409C; color: #90409C;\">Problem 4.4.9</span>\n",
    "\n",
    "We've confirmed that:\n",
    "* with $N$ and $V$ fixed, $P \\propto T$\n",
    "* with $V$ and $T$ fixed, $P \\propto N$\n",
    "* with $T$ and $N$ fixed, $P \\propto \\frac{1}{V}$\n",
    "\n",
    "Thus, combining them all, we get that $\\frac{PV}{NT} = C$ where $C$ is a constant.\n",
    "Rearranging this equation, $\\frac{P}{T} = C\\frac{N}{V}$\n",
    "\n",
    "In Problem 4.4.5, by fitting we got the value of $\\frac{P}{T}$ with 400 particles and box of side length $1$. Using this fit value, compute the value of $C$. Report your answer as a number in units of J/K `1e-23`, with precision `1e-3`.\n",
    "\n",
    "Hint. With 400 particles and the volume(area) = $1\\times 1 = 1$, the slope in problem 4.4.5 is $400C$\n",
    "\n",
    "Is $C$ close to the value $k_B$ as we expect? Rearranging the equation, we get $PV = Nk_B T$, the ideal gas relation in two dimensions.\n"
   ]
  }
 ],
 "metadata": {
  "celltoolbar": "Tags",
  "kernelspec": {
   "display_name": "Python 3 (ipykernel)",
   "language": "python",
   "name": "python3"
  },
  "language_info": {
   "codemirror_mode": {
    "name": "ipython",
    "version": 3
   },
   "file_extension": ".py",
   "mimetype": "text/x-python",
   "name": "python",
   "nbconvert_exporter": "python",
   "pygments_lexer": "ipython3",
   "version": "3.9.9"
  }
 },
 "nbformat": 4,
 "nbformat_minor": 5
}
